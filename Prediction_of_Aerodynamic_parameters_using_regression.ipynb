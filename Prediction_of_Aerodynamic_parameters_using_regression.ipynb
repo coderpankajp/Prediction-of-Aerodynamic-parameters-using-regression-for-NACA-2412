{
  "nbformat": 4,
  "nbformat_minor": 0,
  "metadata": {
    "colab": {
      "name": "Prediction of Aerodynamic parameters using regression",
      "provenance": [],
      "collapsed_sections": []
    },
    "kernelspec": {
      "name": "python3",
      "display_name": "Python 3"
    }
  },
  "cells": [
    {
      "cell_type": "markdown",
      "metadata": {
        "id": "6tHxKkVVv7zY",
        "colab_type": "text"
      },
      "source": [
        "# **Prediction of Aerodynamic parameters for NACA 2412**\n",
        "\n",
        "\n",
        "In this project, I created Machine Learning model to Predict Aerodynamic Parameters for airfoil NACA 2412.\n",
        "\n",
        "So, for that some steps should be followed as given below\n",
        ".\n",
        "*   **Data collection**\n",
        "*   **Training of model**\n",
        "*   **Testing** \n",
        "*   **Validation**  \n",
        "\n",
        "### **1) Data collection** :\n",
        "  Collecting data of aerodynamics values with respect to the angle of attack 'alpha' using CFD ( computational fluid dynamics ) is  long-standing task. so, to surpassing that I took graphs for individual Parameters with respect to alpha from airfoil tools website. I took graphs with Reynold's number 50,000 and Ncrit 9. and then I used WebPlotDigitizer to extract Data from graphs. I split that datasets in 70-30 % ratio as per rule of thumb.\n"
      ]
    },
    {
      "cell_type": "markdown",
      "metadata": {
        "id": "L5OlEE195poX",
        "colab_type": "text"
      },
      "source": [
        "### **2) Training of models and testing**"
      ]
    },
    {
      "cell_type": "markdown",
      "metadata": {
        "id": "0msXPu_36YlO",
        "colab_type": "text"
      },
      "source": [
        "### **Model for Prediction of alpha vs CL**\n",
        "\n"
      ]
    },
    {
      "cell_type": "code",
      "metadata": {
        "id": "haP1Y57MAm-t",
        "colab_type": "code",
        "colab": {}
      },
      "source": [
        "# installation\n",
        "import numpy as np \n",
        "import matplotlib.pyplot as plt \n",
        "import pandas as pd "
      ],
      "execution_count": 1,
      "outputs": []
    },
    {
      "cell_type": "code",
      "metadata": {
        "id": "Ki33LdNuBXK4",
        "colab_type": "code",
        "colab": {
          "base_uri": "https://localhost:8080/",
          "height": 295
        },
        "outputId": "50e0c4f5-8353-4f95-d128-02b016ca9a47"
      },
      "source": [
        "#importing datasets for alpha vs CL\n",
        "da = pd.read_csv('/content/cl vs alpha csv.csv')\n",
        "da.head()\n",
        "\n",
        "#Plotting\n",
        "a1 = da[['a']]      \n",
        "CL = da[['CL']]\n",
        "#a.head()\n",
        "#CL.head()\n",
        "plt.scatter(a1,CL)\n",
        "plt.xlabel('alpha')\n",
        "plt.ylabel('CL')\n",
        "plt.title('alpha vs CL')\n",
        "plt.show()"
      ],
      "execution_count": 2,
      "outputs": [
        {
          "output_type": "display_data",
          "data": {
            "image/png": "[encoded data removed]",
            "text/plain": [
              "<Figure size 432x288 with 1 Axes>"
            ]
          },
          "metadata": {
            "tags": [],
            "needs_background": "light"
          }
        }
      ]
    },
    {
      "cell_type": "code",
      "metadata": {
        "id": "ppm-E7soFPWp",
        "colab_type": "code",
        "colab": {
          "base_uri": "https://localhost:8080/",
          "height": 34
        },
        "outputId": "c69332fd-6968-49c9-9c68-f8c146e08d1c"
      },
      "source": [
        "from sklearn.linear_model import LinearRegression \n",
        "Ln = LinearRegression() \n",
        "reg = Ln.fit(a1, CL) \n",
        "print(reg.predict([[10.95718719]]) )"
      ],
      "execution_count": 3,
      "outputs": [
        {
          "output_type": "stream",
          "text": [
            "[[1.1483638]]\n"
          ],
          "name": "stdout"
        }
      ]
    },
    {
      "cell_type": "markdown",
      "metadata": {
        "id": "8gfZdNQ68ZzV",
        "colab_type": "text"
      },
      "source": [
        "### **Model for Prediction of alpha vs CD**"
      ]
    },
    {
      "cell_type": "code",
      "metadata": {
        "id": "W0VxMJe3SxIq",
        "colab_type": "code",
        "colab": {
          "base_uri": "https://localhost:8080/",
          "height": 295
        },
        "outputId": "aa1a268c-41c6-40e2-e4ea-27f9399c7b31"
      },
      "source": [
        "#importing datasets for alpha vs CD\n",
        "db = pd.read_csv('/content/a vs CD.csv')\n",
        "db.head()\n",
        "\n",
        "#Plotting\n",
        "a2 = db[['a']]\n",
        "CD = db[['CD']]\n",
        "#a.head()\n",
        "#y.head()\n",
        "plt.scatter(a2,CD)\n",
        "plt.xlabel('alpha')\n",
        "plt.ylabel('CD')\n",
        "plt.title('alpha vs CD Ratio')\n",
        "plt.show()"
      ],
      "execution_count": 4,
      "outputs": [
        {
          "output_type": "display_data",
          "data": {
            "image/png": "[encoded data removed]",
            "text/plain": [
              "<Figure size 432x288 with 1 Axes>"
            ]
          },
          "metadata": {
            "tags": [],
            "needs_background": "light"
          }
        }
      ]
    },
    {
      "cell_type": "code",
      "metadata": {
        "id": "UPgROMuxnD4c",
        "colab_type": "code",
        "colab": {
          "base_uri": "https://localhost:8080/",
          "height": 295
        },
        "outputId": "58b06bb5-2fab-4b3a-b472-999e67ac52dc"
      },
      "source": [
        "from sklearn.linear_model import LinearRegression \n",
        "lin = LinearRegression() \n",
        "\n",
        "# Fitting Polynomial Regression \n",
        "from sklearn.preprocessing import PolynomialFeatures \n",
        "\n",
        "poly = PolynomialFeatures(degree = 10) \n",
        "a_poly2 = poly.fit_transform(a2) \n",
        "\n",
        "poly.fit(a_poly2, CD) \n",
        "poly_reg = LinearRegression() \n",
        "poly_reg.fit(a_poly2, CD) \n",
        "\n",
        "\n",
        "# Visualization\n",
        "plt.scatter(a2, CD, color = 'blue') \n",
        "plt.plot(a2, poly_reg.predict(poly.fit_transform(a2)), color = 'red') \n",
        "plt.title('Polynomial Regression') \n",
        "plt.xlabel('alpha') \n",
        "plt.ylabel('CD') \n",
        "plt.show() "
      ],
      "execution_count": 5,
      "outputs": [
        {
          "output_type": "display_data",
          "data": {
            "image/png": "[encoded data removed]",
            "text/plain": [
              "<Figure size 432x288 with 1 Axes>"
            ]
          },
          "metadata": {
            "tags": [],
            "needs_background": "light"
          }
        }
      ]
    },
    {
      "cell_type": "code",
      "metadata": {
        "id": "jcq_JHkuokgR",
        "colab_type": "code",
        "colab": {
          "base_uri": "https://localhost:8080/",
          "height": 34
        },
        "outputId": "44c86840-48f0-498c-aa3a-84795e5d3c45"
      },
      "source": [
        "print(poly_reg.predict(poly.fit_transform([[-8.186902587]])) )"
      ],
      "execution_count": 6,
      "outputs": [
        {
          "output_type": "stream",
          "text": [
            "[[0.08533525]]\n"
          ],
          "name": "stdout"
        }
      ]
    },
    {
      "cell_type": "markdown",
      "metadata": {
        "id": "NT5rExgJ8rwJ",
        "colab_type": "text"
      },
      "source": [
        "### **Model for Prediction of alpha vs CL/CD Ratio**"
      ]
    },
    {
      "cell_type": "code",
      "metadata": {
        "id": "nK6twDpTopX9",
        "colab_type": "code",
        "colab": {
          "base_uri": "https://localhost:8080/",
          "height": 295
        },
        "outputId": "b732983d-37c2-4b2e-a1d5-8305b60ab09f"
      },
      "source": [
        "#importing Data for alpha vs CL/CD ratio\n",
        "dc = pd.read_csv('/content/Default Dataset_New.csv')\n",
        "dc.head()\n",
        "\n",
        "#Plotting\n",
        "\n",
        "a3 = dc[['alpha']]\n",
        "cl_cd = dc[['cl_cd']]\n",
        "#a.head()\n",
        "#cl_cd.head()\n",
        "plt.scatter(a3,cl_cd)\n",
        "plt.xlabel('alpha')\n",
        "plt.ylabel('cl_cd Ratio')\n",
        "plt.title('alpha vs cl_cd Ratio')\n",
        "plt.show()"
      ],
      "execution_count": 7,
      "outputs": [
        {
          "output_type": "display_data",
          "data": {
            "image/png": "[encoded data removed]",
            "text/plain": [
              "<Figure size 432x288 with 1 Axes>"
            ]
          },
          "metadata": {
            "tags": [],
            "needs_background": "light"
          }
        }
      ]
    },
    {
      "cell_type": "code",
      "metadata": {
        "id": "xN-o3ErktNX_",
        "colab_type": "code",
        "colab": {
          "base_uri": "https://localhost:8080/",
          "height": 295
        },
        "outputId": "529467c0-1dba-4e80-9be6-d6e230b9c1f8"
      },
      "source": [
        "from sklearn.linear_model import LinearRegression \n",
        "lin = LinearRegression() \n",
        "\n",
        "# Fitting Polynomial Regression  \n",
        "from sklearn.preprocessing import PolynomialFeatures \n",
        "\n",
        "poly = PolynomialFeatures(degree = 10)\n",
        "a_poly3 = poly.fit_transform(a3) \n",
        "\n",
        "poly.fit(a_poly3, cl_cd) \n",
        "poly_reg = LinearRegression() \n",
        "poly_reg.fit(a_poly3, cl_cd) \n",
        "\n",
        "#Visualization\n",
        "\n",
        "plt.scatter(a3, cl_cd, color = 'blue') \n",
        "plt.plot(a3, poly_reg.predict(poly.fit_transform(a3)), color = 'red') \n",
        "plt.title('Polynomial Regression') \n",
        "plt.xlabel('alpha') \n",
        "plt.ylabel('CL to CD Ratio') \n",
        "plt.show() "
      ],
      "execution_count": 8,
      "outputs": [
        {
          "output_type": "display_data",
          "data": {
            "image/png": "[encoded data removed]",
            "text/plain": [
              "<Figure size 432x288 with 1 Axes>"
            ]
          },
          "metadata": {
            "tags": [],
            "needs_background": "light"
          }
        }
      ]
    },
    {
      "cell_type": "code",
      "metadata": {
        "id": "LIEXJP17t9d6",
        "colab_type": "code",
        "colab": {
          "base_uri": "https://localhost:8080/",
          "height": 34
        },
        "outputId": "2bf8aa97-a61d-467e-fee0-5eb81e7be8b4"
      },
      "source": [
        "print(poly_reg.predict(poly.fit_transform([[8.441723633]])) )"
      ],
      "execution_count": 9,
      "outputs": [
        {
          "output_type": "stream",
          "text": [
            "[[30.80818611]]\n"
          ],
          "name": "stdout"
        }
      ]
    },
    {
      "cell_type": "markdown",
      "metadata": {
        "id": "BqKjVP6s9D74",
        "colab_type": "text"
      },
      "source": [
        "### **3) Validation :**\n",
        "\n",
        "I done Validation Between Results from Trained model and test data."
      ]
    }
  ]
}